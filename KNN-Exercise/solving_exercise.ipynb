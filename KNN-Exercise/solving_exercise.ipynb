{
 "cells": [
  {
   "cell_type": "code",
   "execution_count": 394,
   "metadata": {},
   "outputs": [],
   "source": [
    "import os \n",
    "\n",
    "import pandas as pd\n",
    "import numpy as np \n",
    "import matplotlib.pyplot as plt\n",
    "from sklearn.neighbors import KNeighborsClassifier\n",
    "from sklearn.metrics import accuracy_score\n",
    "from sklearn.metrics.pairwise import euclidean_distances\n",
    "import seaborn as sns"
   ]
  },
  {
   "cell_type": "code",
   "execution_count": 395,
   "metadata": {},
   "outputs": [],
   "source": [
    "plt.style.use(\"seaborn-pastel\")"
   ]
  },
  {
   "cell_type": "code",
   "execution_count": 396,
   "metadata": {},
   "outputs": [],
   "source": [
    "def read_data(file_name: str) -> pd.DataFrame:\n",
    "    df = pd.read_csv(\"data/\"+file_name, sep=\"\\t\")\n",
    "    df.columns = [col.lower().replace(\".\", \"_\") for col in df.columns]\n",
    "    return df"
   ]
  },
  {
   "cell_type": "code",
   "execution_count": 397,
   "metadata": {},
   "outputs": [],
   "source": [
    "def nearest(df_train:pd.DataFrame, df_test:pd.DataFrame, return_dist: bool= False) -> dict:\n",
    "    \"\"\"Calculates for each test observation the sorted list \n",
    "    of nearest training IDs.\n",
    "\n",
    "    Parameters\n",
    "    ----------\n",
    "    df_train : pd.DataFrame\n",
    "        [description]\n",
    "    df_test : pd.DataFrame\n",
    "        [description]\n",
    "\n",
    "    Returns\n",
    "    -------\n",
    "    dict\n",
    "        Dictionary mapping the test ID to the sorted nearest\n",
    "        training IDs.\n",
    "    \"\"\"\n",
    "    d = {}\n",
    "    euclid = {}\n",
    "    for idx in df_test.index:\n",
    "        test_id = df_test.loc[idx, \"id\"]\n",
    "        row = df_test.loc[idx, ~df_test.columns.isin([\"id\", \"class\"])]\n",
    "        cop = df_train.copy()\n",
    "        cop[\"dist\"] = ((cop.loc[:, ~cop.columns.isin([\"id\", \"class\"])] - row)**2).sum(axis=1)\n",
    "        IDs = cop.sort_values(\"dist\").id.values.tolist()\n",
    "        d[test_id] = IDs\n",
    "        euclid[test_id] = cop[[\"id\", \"dist\"]]\n",
    "    if return_dist:\n",
    "        return d, euclid\n",
    "    return d\n",
    "        "
   ]
  },
  {
   "cell_type": "code",
   "execution_count": 398,
   "metadata": {},
   "outputs": [],
   "source": [
    "def train_test(df_train: pd.DataFrame, df_test:pd.DataFrame, k:int) -> float:    \n",
    "    x_train, y_train = df_train.loc[:, ~df_train.columns.isin([\"id\", \"class\"])], df_train[\"class\"]\n",
    "    x_test, y_test = df_test.loc[:, ~df_test.columns.isin([\"id\", \"class\"])], df_test[\"class\"]\n",
    "\n",
    "    knn = KNeighborsClassifier(n_neighbors=k)\n",
    "    knn.fit(x_train, y_train)\n",
    "\n",
    "    y_pred = knn.predict(x_test)\n",
    "    acc = accuracy_score(y_test, y_pred)\n",
    "\n",
    "    return acc\n",
    "    "
   ]
  },
  {
   "cell_type": "code",
   "execution_count": 399,
   "metadata": {},
   "outputs": [],
   "source": [
    "def experiment(df_train: pd.DataFrame, df_test: pd.DataFrame, n_neighbors: list) -> list[dict]:\n",
    "    nearest_mapper = nearest(df_train, df_test)\n",
    "    accs = {}\n",
    "    for k in n_neighbors:\n",
    "        acc = train_test(df_train, df_test, k)\n",
    "        accs[k] = acc\n",
    "    \n",
    "    return accs, nearest_mapper"
   ]
  },
  {
   "cell_type": "code",
   "execution_count": 400,
   "metadata": {},
   "outputs": [],
   "source": [
    "def plot_2f_data(df_train: pd.DataFrame, df_test: pd.DataFrame) -> None:\n",
    "    x1_name = \"total_sulfur_dioxide\"\n",
    "    x2_name = \"citric_acid\"\n",
    "    fig, ax = plt.subplots(figsize=(20,10))\n",
    "    ax.plot(df_train[x1_name], df_train[x2_name], marker=\"o\", ls=\"\", markersize=23, color=\"red\")\n",
    "    ax.plot(df_test[x1_name], df_test[x2_name], marker=\"s\", ls=\"\", markersize=23, color=\"blue\")\n",
    "    ax.set_xlabel(x1_name, fontsize=15)\n",
    "    ax.set_ylabel(x2_name, fontsize=15)\n",
    "\n",
    "    # offset = 1.0 \n",
    "    # ax.set_xlim(min(x)-offset, max(x)+ offset)\n",
    "    # ax.set_ylim(min(y)-offset, max(y)+ offset)\n",
    "\n",
    "    for text, i,j in df_train[[\"id\", x1_name, x2_name]].values:\n",
    "        ax.annotate(\n",
    "            str(text),  \n",
    "            xy=(i, j), \n",
    "            color='white',\n",
    "            fontsize=\"large\", \n",
    "            weight='heavy',\n",
    "            horizontalalignment='center',\n",
    "            verticalalignment='center'\n",
    "        )\n",
    "\n",
    "    for text, i,j in df_test[[\"id\", x1_name, x2_name]].values:\n",
    "        ax.annotate(\n",
    "            str(text),  \n",
    "            xy=(i, j), \n",
    "            color='white',\n",
    "            fontsize=\"large\", \n",
    "            weight='heavy',\n",
    "            horizontalalignment='center',\n",
    "            verticalalignment='center'\n",
    "        )\n",
    "\n"
   ]
  },
  {
   "cell_type": "code",
   "execution_count": 401,
   "metadata": {},
   "outputs": [],
   "source": [
    "file_names = os.listdir(\"data\")"
   ]
  },
  {
   "cell_type": "code",
   "execution_count": 402,
   "metadata": {},
   "outputs": [
    {
     "data": {
      "text/plain": [
       "['TestingData_11F_Norm.txt',\n",
       " 'TestingData_11F_Original.txt',\n",
       " 'TestingData_2F_Norm.txt',\n",
       " 'TestingData_2F_Original.txt',\n",
       " 'TrainingData_11F_Norm.txt',\n",
       " 'TrainingData_11F_Original.txt',\n",
       " 'TrainingData_2F_Norm.txt',\n",
       " 'TrainingData_2F_Original.txt']"
      ]
     },
     "execution_count": 402,
     "metadata": {},
     "output_type": "execute_result"
    }
   ],
   "source": [
    "file_names"
   ]
  },
  {
   "cell_type": "code",
   "execution_count": 403,
   "metadata": {},
   "outputs": [],
   "source": [
    "test_2f_orig = read_data('TestingData_2F_Original.txt')\n",
    "train_2f_orig = read_data('TrainingData_2F_Original.txt')\n",
    "train_2f_norm = read_data('TrainingData_2F_Norm.txt')\n",
    "test_2f_norm = read_data('TestingData_2F_Norm.txt')\n",
    "\n",
    "test_11f_orig = read_data('TestingData_11F_Original.txt')\n",
    "train_11f_orig = read_data('TrainingData_11F_Original.txt')\n",
    "train_11f_norm = read_data('TrainingData_11F_Norm.txt')\n",
    "test_11f_norm = read_data('TestingData_11F_Norm.txt')"
   ]
  },
  {
   "cell_type": "markdown",
   "metadata": {},
   "source": [
    "# A)"
   ]
  },
  {
   "cell_type": "code",
   "execution_count": 404,
   "metadata": {},
   "outputs": [],
   "source": [
    "Ks = [1, 3, 5, 7]\n",
    "acc_2f_orig, nearest_2f_orig = experiment(train_2f_orig, test_2f_orig, Ks)\n",
    "acc_2f_norm, nearest_2f_norm = experiment(train_2f_norm, test_2f_norm, Ks)"
   ]
  },
  {
   "cell_type": "code",
   "execution_count": 405,
   "metadata": {},
   "outputs": [
    {
     "data": {
      "text/plain": [
       "<matplotlib.legend.Legend at 0x1b4a6dba850>"
      ]
     },
     "execution_count": 405,
     "metadata": {},
     "output_type": "execute_result"
    },
    {
     "data": {
      "image/png": "[encoded data removed]",
      "text/plain": [
       "<Figure size 1440x432 with 1 Axes>"
      ]
     },
     "metadata": {
      "needs_background": "light"
     },
     "output_type": "display_data"
    }
   ],
   "source": [
    "plot_acc = lambda acc, *args, **kwargs: plt.plot(acc.keys(), acc.values(), ls='-', marker='o', *args, **kwargs)\n",
    "plt.figure(figsize=(20, 6))\n",
    "plot_acc(acc_2f_orig, label=\"orig\")\n",
    "plot_acc(acc_2f_norm, label=\"norm\")\n",
    "plt.legend(fontsize=13)"
   ]
  },
  {
   "cell_type": "markdown",
   "metadata": {},
   "source": [
    "# B)"
   ]
  },
  {
   "cell_type": "code",
   "execution_count": 406,
   "metadata": {},
   "outputs": [
    {
     "data": {
      "image/png": "[encoded data removed]",
      "text/plain": [
       "<Figure size 1440x720 with 1 Axes>"
      ]
     },
     "metadata": {
      "needs_background": "light"
     },
     "output_type": "display_data"
    }
   ],
   "source": [
    "plot_2f_data(train_2f_orig, test_2f_orig)"
   ]
  },
  {
   "cell_type": "code",
   "execution_count": 407,
   "metadata": {},
   "outputs": [
    {
     "name": "stdout",
     "output_type": "stream",
     "text": [
      "N1: ['T21', 'T27', 'T30', 'T25', 'T11']\n",
      "N2: ['T10', 'T37', 'T4', 'T36', 'T31']\n",
      "N3: ['T29', 'T28', 'T15', 'T41', 'T35']\n",
      "N4: ['T9', 'T26', 'T16', 'T11', 'T25']\n"
     ]
    }
   ],
   "source": [
    "for key, value in nearest_2f_orig.items():\n",
    "    print(f\"{key}: {value[:5]}\")"
   ]
  },
  {
   "cell_type": "markdown",
   "metadata": {},
   "source": [
    "# C)"
   ]
  },
  {
   "cell_type": "markdown",
   "metadata": {},
   "source": [
    "## 1.1"
   ]
  },
  {
   "cell_type": "code",
   "execution_count": 408,
   "metadata": {},
   "outputs": [],
   "source": [
    "acc_11f_norm, nearest_11f_norm = experiment(train_11f_norm, test_11f_norm, Ks)"
   ]
  },
  {
   "cell_type": "code",
   "execution_count": 409,
   "metadata": {},
   "outputs": [
    {
     "name": "stdout",
     "output_type": "stream",
     "text": [
      "N1: ['T27', 'T11', 'T40', 'T15', 'T16']\n",
      "N2: ['T31', 'T37', 'T12', 'T34', 'T22']\n",
      "N3: ['T29', 'T28', 'T41', 'T30', 'T35']\n",
      "N4: ['T32', 'T7', 'T8', 'T38', 'T30']\n"
     ]
    }
   ],
   "source": [
    "for key, value in nearest_2f_norm.items():\n",
    "    print(f\"{key}: {value[:5]}\")"
   ]
  },
  {
   "cell_type": "code",
   "execution_count": 410,
   "metadata": {},
   "outputs": [
    {
     "name": "stdout",
     "output_type": "stream",
     "text": [
      "N1: ['T16', 'T27', 'T19', 'T20', 'T15']\n",
      "N2: ['T31', 'T5', 'T22', 'T19', 'T34']\n",
      "N3: ['T26', 'T28', 'T7', 'T29', 'T41']\n",
      "N4: ['T30', 'T1', 'T8', 'T7', 'T6']\n"
     ]
    }
   ],
   "source": [
    "for key, value in nearest_11f_norm.items():\n",
    "    print(f\"{key}: {value[:5]}\")"
   ]
  },
  {
   "cell_type": "code",
   "execution_count": 411,
   "metadata": {},
   "outputs": [],
   "source": [
    "x_train_2f, y_train_2f = train_2f_norm.loc[:, ~train_2f_norm.columns.isin([\"id\", \"class\"])], train_2f_norm[\"class\"]\n",
    "x_test_2f, y_test_2f = test_2f_norm.loc[:, ~test_2f_norm.columns.isin([\"id\", \"class\"])], test_2f_norm[\"class\"]\n",
    "\n",
    "x_train_11f, y_train_11f = train_11f_norm.loc[:, ~train_11f_norm.columns.isin([\"id\", \"class\"])], train_11f_norm[\"class\"]\n",
    "x_test_11f, y_test_11f = test_11f_norm.loc[:, ~test_11f_norm.columns.isin([\"id\", \"class\"])], test_11f_norm[\"class\"]"
   ]
  },
  {
   "cell_type": "code",
   "execution_count": 412,
   "metadata": {},
   "outputs": [
    {
     "data": {
      "text/plain": [
       "array([[0.181, 1.   ]])"
      ]
     },
     "execution_count": 412,
     "metadata": {},
     "output_type": "execute_result"
    }
   ],
   "source": [
    "x_test_2f.loc[3].values.reshape(1,-1)"
   ]
  },
  {
   "cell_type": "code",
   "execution_count": 413,
   "metadata": {},
   "outputs": [],
   "source": [
    "euc_2f_case0 = euclidean_distances(x_train_2f.values, x_test_2f.loc[3].values.reshape(1,-1))\n",
    "euc_11f_case0 = euclidean_distances(x_train_11f.values, x_test_11f.loc[3].values.reshape(1,-1))"
   ]
  },
  {
   "cell_type": "code",
   "execution_count": 414,
   "metadata": {},
   "outputs": [
    {
     "data": {
      "text/plain": [
       "KNeighborsClassifier()"
      ]
     },
     "execution_count": 414,
     "metadata": {},
     "output_type": "execute_result"
    }
   ],
   "source": [
    "knn_2f = KNeighborsClassifier(5)\n",
    "knn_11f = KNeighborsClassifier(5)\n",
    "\n",
    "knn_2f.fit(x_train_2f, y_train_2f)\n",
    "knn_11f.fit(x_train_11f, y_train_11f)"
   ]
  },
  {
   "cell_type": "code",
   "execution_count": 415,
   "metadata": {},
   "outputs": [],
   "source": [
    "test_2f_norm[\"pred_case0\"] = knn_2f.predict(x_test_2f)\n",
    "test_11f_norm[\"pred_case0\"] = knn_11f.predict(x_test_11f)"
   ]
  },
  {
   "cell_type": "code",
   "execution_count": 416,
   "metadata": {},
   "outputs": [
    {
     "data": {
      "text/html": [
       "<div>\n",
       "<style scoped>\n",
       "    .dataframe tbody tr th:only-of-type {\n",
       "        vertical-align: middle;\n",
       "    }\n",
       "\n",
       "    .dataframe tbody tr th {\n",
       "        vertical-align: top;\n",
       "    }\n",
       "\n",
       "    .dataframe thead th {\n",
       "        text-align: right;\n",
       "    }\n",
       "</style>\n",
       "<table border=\"1\" class=\"dataframe\">\n",
       "  <thead>\n",
       "    <tr style=\"text-align: right;\">\n",
       "      <th></th>\n",
       "      <th>id</th>\n",
       "      <th>total_sulfur_dioxide</th>\n",
       "      <th>citric_acid</th>\n",
       "      <th>class</th>\n",
       "      <th>pred_case0</th>\n",
       "    </tr>\n",
       "  </thead>\n",
       "  <tbody>\n",
       "    <tr>\n",
       "      <th>0</th>\n",
       "      <td>N1</td>\n",
       "      <td>0.134</td>\n",
       "      <td>0.000</td>\n",
       "      <td>0</td>\n",
       "      <td>0</td>\n",
       "    </tr>\n",
       "    <tr>\n",
       "      <th>1</th>\n",
       "      <td>N2</td>\n",
       "      <td>0.496</td>\n",
       "      <td>0.441</td>\n",
       "      <td>0</td>\n",
       "      <td>1</td>\n",
       "    </tr>\n",
       "    <tr>\n",
       "      <th>2</th>\n",
       "      <td>N3</td>\n",
       "      <td>0.031</td>\n",
       "      <td>0.735</td>\n",
       "      <td>1</td>\n",
       "      <td>1</td>\n",
       "    </tr>\n",
       "    <tr>\n",
       "      <th>3</th>\n",
       "      <td>N4</td>\n",
       "      <td>0.181</td>\n",
       "      <td>1.000</td>\n",
       "      <td>1</td>\n",
       "      <td>1</td>\n",
       "    </tr>\n",
       "  </tbody>\n",
       "</table>\n",
       "</div>"
      ],
      "text/plain": [
       "   id  total_sulfur_dioxide  citric_acid  class  pred_case0\n",
       "0  N1                 0.134        0.000      0           0\n",
       "1  N2                 0.496        0.441      0           1\n",
       "2  N3                 0.031        0.735      1           1\n",
       "3  N4                 0.181        1.000      1           1"
      ]
     },
     "execution_count": 416,
     "metadata": {},
     "output_type": "execute_result"
    }
   ],
   "source": [
    "test_2f_norm"
   ]
  },
  {
   "cell_type": "code",
   "execution_count": 417,
   "metadata": {},
   "outputs": [
    {
     "data": {
      "text/html": [
       "<div>\n",
       "<style scoped>\n",
       "    .dataframe tbody tr th:only-of-type {\n",
       "        vertical-align: middle;\n",
       "    }\n",
       "\n",
       "    .dataframe tbody tr th {\n",
       "        vertical-align: top;\n",
       "    }\n",
       "\n",
       "    .dataframe thead th {\n",
       "        text-align: right;\n",
       "    }\n",
       "</style>\n",
       "<table border=\"1\" class=\"dataframe\">\n",
       "  <thead>\n",
       "    <tr style=\"text-align: right;\">\n",
       "      <th></th>\n",
       "      <th>id</th>\n",
       "      <th>class</th>\n",
       "      <th>pred_case0</th>\n",
       "    </tr>\n",
       "  </thead>\n",
       "  <tbody>\n",
       "    <tr>\n",
       "      <th>0</th>\n",
       "      <td>N1</td>\n",
       "      <td>0</td>\n",
       "      <td>0</td>\n",
       "    </tr>\n",
       "    <tr>\n",
       "      <th>1</th>\n",
       "      <td>N2</td>\n",
       "      <td>0</td>\n",
       "      <td>0</td>\n",
       "    </tr>\n",
       "    <tr>\n",
       "      <th>2</th>\n",
       "      <td>N3</td>\n",
       "      <td>1</td>\n",
       "      <td>1</td>\n",
       "    </tr>\n",
       "    <tr>\n",
       "      <th>3</th>\n",
       "      <td>N4</td>\n",
       "      <td>1</td>\n",
       "      <td>0</td>\n",
       "    </tr>\n",
       "  </tbody>\n",
       "</table>\n",
       "</div>"
      ],
      "text/plain": [
       "   id  class  pred_case0\n",
       "0  N1      0           0\n",
       "1  N2      0           0\n",
       "2  N3      1           1\n",
       "3  N4      1           0"
      ]
     },
     "execution_count": 417,
     "metadata": {},
     "output_type": "execute_result"
    }
   ],
   "source": [
    "test_11f_norm[[\"id\", \"class\", \"pred_case0\"]]"
   ]
  },
  {
   "cell_type": "markdown",
   "metadata": {},
   "source": [
    "## 1.2 \n",
    "\n",
    "Changing citric acid from 1.0 to 0.3"
   ]
  },
  {
   "cell_type": "code",
   "execution_count": 418,
   "metadata": {},
   "outputs": [
    {
     "name": "stderr",
     "output_type": "stream",
     "text": [
      "C:\\Users\\Eduardo Pacheco\\AppData\\Local\\Temp\\ipykernel_8788\\4031355549.py:1: SettingWithCopyWarning: \n",
      "A value is trying to be set on a copy of a slice from a DataFrame\n",
      "\n",
      "See the caveats in the documentation: https://pandas.pydata.org/pandas-docs/stable/user_guide/indexing.html#returning-a-view-versus-a-copy\n",
      "  x_test_2f.loc[3, \"citric_acid\"] = 0.3\n",
      "C:\\Users\\Eduardo Pacheco\\AppData\\Local\\Temp\\ipykernel_8788\\4031355549.py:2: SettingWithCopyWarning: \n",
      "A value is trying to be set on a copy of a slice from a DataFrame\n",
      "\n",
      "See the caveats in the documentation: https://pandas.pydata.org/pandas-docs/stable/user_guide/indexing.html#returning-a-view-versus-a-copy\n",
      "  x_test_11f.loc[3, \"citric_acid\"] = 0.3\n"
     ]
    }
   ],
   "source": [
    "x_test_2f.loc[3, \"citric_acid\"] = 0.3\n",
    "x_test_11f.loc[3, \"citric_acid\"] = 0.3"
   ]
  },
  {
   "cell_type": "code",
   "execution_count": 419,
   "metadata": {},
   "outputs": [],
   "source": [
    "euc_2f_case1 = euclidean_distances(x_train_2f.values, x_test_2f.loc[3].values.reshape(1,-1))\n",
    "euc_11f_case1 = euclidean_distances(x_train_11f.values, x_test_11f.loc[3].values.reshape(1,-1))"
   ]
  },
  {
   "cell_type": "code",
   "execution_count": 420,
   "metadata": {},
   "outputs": [],
   "source": [
    "test_2f_norm[\"pred_case1\"] = knn_2f.predict(x_test_2f)\n",
    "test_11f_norm[\"pred_case1\"] = knn_11f.predict(x_test_11f)"
   ]
  },
  {
   "cell_type": "code",
   "execution_count": 421,
   "metadata": {},
   "outputs": [
    {
     "data": {
      "text/html": [
       "<div>\n",
       "<style scoped>\n",
       "    .dataframe tbody tr th:only-of-type {\n",
       "        vertical-align: middle;\n",
       "    }\n",
       "\n",
       "    .dataframe tbody tr th {\n",
       "        vertical-align: top;\n",
       "    }\n",
       "\n",
       "    .dataframe thead th {\n",
       "        text-align: right;\n",
       "    }\n",
       "</style>\n",
       "<table border=\"1\" class=\"dataframe\">\n",
       "  <thead>\n",
       "    <tr style=\"text-align: right;\">\n",
       "      <th></th>\n",
       "      <th>id</th>\n",
       "      <th>total_sulfur_dioxide</th>\n",
       "      <th>citric_acid</th>\n",
       "      <th>class</th>\n",
       "      <th>pred_case0</th>\n",
       "      <th>pred_case1</th>\n",
       "    </tr>\n",
       "  </thead>\n",
       "  <tbody>\n",
       "    <tr>\n",
       "      <th>0</th>\n",
       "      <td>N1</td>\n",
       "      <td>0.134</td>\n",
       "      <td>0.000</td>\n",
       "      <td>0</td>\n",
       "      <td>0</td>\n",
       "      <td>0</td>\n",
       "    </tr>\n",
       "    <tr>\n",
       "      <th>1</th>\n",
       "      <td>N2</td>\n",
       "      <td>0.496</td>\n",
       "      <td>0.441</td>\n",
       "      <td>0</td>\n",
       "      <td>1</td>\n",
       "      <td>1</td>\n",
       "    </tr>\n",
       "    <tr>\n",
       "      <th>2</th>\n",
       "      <td>N3</td>\n",
       "      <td>0.031</td>\n",
       "      <td>0.735</td>\n",
       "      <td>1</td>\n",
       "      <td>1</td>\n",
       "      <td>1</td>\n",
       "    </tr>\n",
       "    <tr>\n",
       "      <th>3</th>\n",
       "      <td>N4</td>\n",
       "      <td>0.181</td>\n",
       "      <td>1.000</td>\n",
       "      <td>1</td>\n",
       "      <td>1</td>\n",
       "      <td>0</td>\n",
       "    </tr>\n",
       "  </tbody>\n",
       "</table>\n",
       "</div>"
      ],
      "text/plain": [
       "   id  total_sulfur_dioxide  citric_acid  class  pred_case0  pred_case1\n",
       "0  N1                 0.134        0.000      0           0           0\n",
       "1  N2                 0.496        0.441      0           1           1\n",
       "2  N3                 0.031        0.735      1           1           1\n",
       "3  N4                 0.181        1.000      1           1           0"
      ]
     },
     "execution_count": 421,
     "metadata": {},
     "output_type": "execute_result"
    }
   ],
   "source": [
    "test_2f_norm"
   ]
  },
  {
   "cell_type": "code",
   "execution_count": 422,
   "metadata": {},
   "outputs": [
    {
     "data": {
      "text/html": [
       "<div>\n",
       "<style scoped>\n",
       "    .dataframe tbody tr th:only-of-type {\n",
       "        vertical-align: middle;\n",
       "    }\n",
       "\n",
       "    .dataframe tbody tr th {\n",
       "        vertical-align: top;\n",
       "    }\n",
       "\n",
       "    .dataframe thead th {\n",
       "        text-align: right;\n",
       "    }\n",
       "</style>\n",
       "<table border=\"1\" class=\"dataframe\">\n",
       "  <thead>\n",
       "    <tr style=\"text-align: right;\">\n",
       "      <th></th>\n",
       "      <th>id</th>\n",
       "      <th>class</th>\n",
       "      <th>pred_case0</th>\n",
       "      <th>pred_case1</th>\n",
       "    </tr>\n",
       "  </thead>\n",
       "  <tbody>\n",
       "    <tr>\n",
       "      <th>0</th>\n",
       "      <td>N1</td>\n",
       "      <td>0</td>\n",
       "      <td>0</td>\n",
       "      <td>0</td>\n",
       "    </tr>\n",
       "    <tr>\n",
       "      <th>1</th>\n",
       "      <td>N2</td>\n",
       "      <td>0</td>\n",
       "      <td>0</td>\n",
       "      <td>0</td>\n",
       "    </tr>\n",
       "    <tr>\n",
       "      <th>2</th>\n",
       "      <td>N3</td>\n",
       "      <td>1</td>\n",
       "      <td>1</td>\n",
       "      <td>1</td>\n",
       "    </tr>\n",
       "    <tr>\n",
       "      <th>3</th>\n",
       "      <td>N4</td>\n",
       "      <td>1</td>\n",
       "      <td>0</td>\n",
       "      <td>0</td>\n",
       "    </tr>\n",
       "  </tbody>\n",
       "</table>\n",
       "</div>"
      ],
      "text/plain": [
       "   id  class  pred_case0  pred_case1\n",
       "0  N1      0           0           0\n",
       "1  N2      0           0           0\n",
       "2  N3      1           1           1\n",
       "3  N4      1           0           0"
      ]
     },
     "execution_count": 422,
     "metadata": {},
     "output_type": "execute_result"
    }
   ],
   "source": [
    "test_11f_norm[[\"id\", \"class\", \"pred_case0\", \"pred_case1\"]]"
   ]
  },
  {
   "cell_type": "markdown",
   "metadata": {},
   "source": [
    "## 1.3"
   ]
  },
  {
   "cell_type": "code",
   "execution_count": 423,
   "metadata": {},
   "outputs": [
    {
     "name": "stderr",
     "output_type": "stream",
     "text": [
      "C:\\Users\\Eduardo Pacheco\\AppData\\Local\\Temp\\ipykernel_8788\\238761069.py:1: SettingWithCopyWarning: \n",
      "A value is trying to be set on a copy of a slice from a DataFrame\n",
      "\n",
      "See the caveats in the documentation: https://pandas.pydata.org/pandas-docs/stable/user_guide/indexing.html#returning-a-view-versus-a-copy\n",
      "  x_test_2f.loc[3, \"citric_acid\"] = 0.85\n",
      "C:\\Users\\Eduardo Pacheco\\AppData\\Local\\Temp\\ipykernel_8788\\238761069.py:2: SettingWithCopyWarning: \n",
      "A value is trying to be set on a copy of a slice from a DataFrame\n",
      "\n",
      "See the caveats in the documentation: https://pandas.pydata.org/pandas-docs/stable/user_guide/indexing.html#returning-a-view-versus-a-copy\n",
      "  x_test_11f.loc[3, \"citric_acid\"] = 0.85\n"
     ]
    }
   ],
   "source": [
    "x_test_2f.loc[3, \"citric_acid\"] = 0.85\n",
    "x_test_11f.loc[3, \"citric_acid\"] = 0.85"
   ]
  },
  {
   "cell_type": "code",
   "execution_count": 424,
   "metadata": {},
   "outputs": [],
   "source": [
    "euc_2f_case2 = euclidean_distances(x_train_2f.values, x_test_2f.loc[3].values.reshape(1,-1))\n",
    "euc_11f_case2 = euclidean_distances(x_train_11f.values, x_test_11f.loc[3].values.reshape(1,-1))"
   ]
  },
  {
   "cell_type": "code",
   "execution_count": 425,
   "metadata": {},
   "outputs": [],
   "source": [
    "test_2f_norm[\"pred_case2\"] = knn_2f.predict(x_test_2f)\n",
    "test_11f_norm[\"pred_case2\"] = knn_11f.predict(x_test_11f)"
   ]
  },
  {
   "cell_type": "code",
   "execution_count": 426,
   "metadata": {},
   "outputs": [
    {
     "data": {
      "text/html": [
       "<div>\n",
       "<style scoped>\n",
       "    .dataframe tbody tr th:only-of-type {\n",
       "        vertical-align: middle;\n",
       "    }\n",
       "\n",
       "    .dataframe tbody tr th {\n",
       "        vertical-align: top;\n",
       "    }\n",
       "\n",
       "    .dataframe thead th {\n",
       "        text-align: right;\n",
       "    }\n",
       "</style>\n",
       "<table border=\"1\" class=\"dataframe\">\n",
       "  <thead>\n",
       "    <tr style=\"text-align: right;\">\n",
       "      <th></th>\n",
       "      <th>id</th>\n",
       "      <th>total_sulfur_dioxide</th>\n",
       "      <th>citric_acid</th>\n",
       "      <th>class</th>\n",
       "      <th>pred_case0</th>\n",
       "      <th>pred_case1</th>\n",
       "      <th>pred_case2</th>\n",
       "    </tr>\n",
       "  </thead>\n",
       "  <tbody>\n",
       "    <tr>\n",
       "      <th>0</th>\n",
       "      <td>N1</td>\n",
       "      <td>0.134</td>\n",
       "      <td>0.000</td>\n",
       "      <td>0</td>\n",
       "      <td>0</td>\n",
       "      <td>0</td>\n",
       "      <td>0</td>\n",
       "    </tr>\n",
       "    <tr>\n",
       "      <th>1</th>\n",
       "      <td>N2</td>\n",
       "      <td>0.496</td>\n",
       "      <td>0.441</td>\n",
       "      <td>0</td>\n",
       "      <td>1</td>\n",
       "      <td>1</td>\n",
       "      <td>1</td>\n",
       "    </tr>\n",
       "    <tr>\n",
       "      <th>2</th>\n",
       "      <td>N3</td>\n",
       "      <td>0.031</td>\n",
       "      <td>0.735</td>\n",
       "      <td>1</td>\n",
       "      <td>1</td>\n",
       "      <td>1</td>\n",
       "      <td>1</td>\n",
       "    </tr>\n",
       "    <tr>\n",
       "      <th>3</th>\n",
       "      <td>N4</td>\n",
       "      <td>0.181</td>\n",
       "      <td>1.000</td>\n",
       "      <td>1</td>\n",
       "      <td>1</td>\n",
       "      <td>0</td>\n",
       "      <td>0</td>\n",
       "    </tr>\n",
       "  </tbody>\n",
       "</table>\n",
       "</div>"
      ],
      "text/plain": [
       "   id  total_sulfur_dioxide  citric_acid  class  pred_case0  pred_case1  \\\n",
       "0  N1                 0.134        0.000      0           0           0   \n",
       "1  N2                 0.496        0.441      0           1           1   \n",
       "2  N3                 0.031        0.735      1           1           1   \n",
       "3  N4                 0.181        1.000      1           1           0   \n",
       "\n",
       "   pred_case2  \n",
       "0           0  \n",
       "1           1  \n",
       "2           1  \n",
       "3           0  "
      ]
     },
     "execution_count": 426,
     "metadata": {},
     "output_type": "execute_result"
    }
   ],
   "source": [
    "test_2f_norm"
   ]
  },
  {
   "cell_type": "code",
   "execution_count": 427,
   "metadata": {},
   "outputs": [
    {
     "data": {
      "text/html": [
       "<div>\n",
       "<style scoped>\n",
       "    .dataframe tbody tr th:only-of-type {\n",
       "        vertical-align: middle;\n",
       "    }\n",
       "\n",
       "    .dataframe tbody tr th {\n",
       "        vertical-align: top;\n",
       "    }\n",
       "\n",
       "    .dataframe thead th {\n",
       "        text-align: right;\n",
       "    }\n",
       "</style>\n",
       "<table border=\"1\" class=\"dataframe\">\n",
       "  <thead>\n",
       "    <tr style=\"text-align: right;\">\n",
       "      <th></th>\n",
       "      <th>id</th>\n",
       "      <th>class</th>\n",
       "      <th>pred_case0</th>\n",
       "      <th>pred_case1</th>\n",
       "      <th>pred_case2</th>\n",
       "    </tr>\n",
       "  </thead>\n",
       "  <tbody>\n",
       "    <tr>\n",
       "      <th>0</th>\n",
       "      <td>N1</td>\n",
       "      <td>0</td>\n",
       "      <td>0</td>\n",
       "      <td>0</td>\n",
       "      <td>0</td>\n",
       "    </tr>\n",
       "    <tr>\n",
       "      <th>1</th>\n",
       "      <td>N2</td>\n",
       "      <td>0</td>\n",
       "      <td>0</td>\n",
       "      <td>0</td>\n",
       "      <td>0</td>\n",
       "    </tr>\n",
       "    <tr>\n",
       "      <th>2</th>\n",
       "      <td>N3</td>\n",
       "      <td>1</td>\n",
       "      <td>1</td>\n",
       "      <td>1</td>\n",
       "      <td>1</td>\n",
       "    </tr>\n",
       "    <tr>\n",
       "      <th>3</th>\n",
       "      <td>N4</td>\n",
       "      <td>1</td>\n",
       "      <td>0</td>\n",
       "      <td>0</td>\n",
       "      <td>0</td>\n",
       "    </tr>\n",
       "  </tbody>\n",
       "</table>\n",
       "</div>"
      ],
      "text/plain": [
       "   id  class  pred_case0  pred_case1  pred_case2\n",
       "0  N1      0           0           0           0\n",
       "1  N2      0           0           0           0\n",
       "2  N3      1           1           1           1\n",
       "3  N4      1           0           0           0"
      ]
     },
     "execution_count": 427,
     "metadata": {},
     "output_type": "execute_result"
    }
   ],
   "source": [
    "test_11f_norm[[\"id\", \"class\", \"pred_case0\", \"pred_case1\", \"pred_case2\"]]"
   ]
  },
  {
   "cell_type": "code",
   "execution_count": 431,
   "metadata": {},
   "outputs": [
    {
     "data": {
      "text/plain": [
       "<matplotlib.legend.Legend at 0x1b4a70f4190>"
      ]
     },
     "execution_count": 431,
     "metadata": {},
     "output_type": "execute_result"
    },
    {
     "data": {
      "image/png": "[encoded data removed]",
      "text/plain": [
       "<Figure size 1440x576 with 2 Axes>"
      ]
     },
     "metadata": {
      "needs_background": "light"
     },
     "output_type": "display_data"
    }
   ],
   "source": [
    "plt.figure(figsize=(20,8))\n",
    "\n",
    "plt.subplot(1,2,1)\n",
    "plt.title(\"2 Features\", fontsize=17)\n",
    "plt.ylabel(\"Count\")\n",
    "plt.xlabel(\"Euclidean Distance for N4\", fontsize=13)\n",
    "for idx, dist in enumerate([euc_2f_case0, euc_2f_case1, euc_2f_case2]):\n",
    "    plt.hist(dist, alpha=0.5, label=f\"Case {idx}\")\n",
    "\n",
    "plt.legend()\n",
    "\n",
    "plt.subplot(1,2,2)\n",
    "plt.title(\"11 Features\", fontsize=17)\n",
    "plt.xlabel(\"Euclidean Distance for N4\", fontsize=13)\n",
    "for idx, dist in enumerate([euc_11f_case0, euc_11f_case1, euc_11f_case2]):\n",
    "    plt.hist(dist, alpha=0.5, label=f\"Case {idx}\")\n",
    "\n",
    "plt.legend()"
   ]
  }
 ],
 "metadata": {
  "interpreter": {
   "hash": "8fd1af3a6d2a3fcf93c35340909d9c3b300cb9ecf26b90985138f1eedc6ffa9f"
  },
  "kernelspec": {
   "display_name": "Python 3.9.6 64-bit ('CMP263': venv)",
   "language": "python",
   "name": "python3"
  },
  "language_info": {
   "codemirror_mode": {
    "name": "ipython",
    "version": 3
   },
   "file_extension": ".py",
   "mimetype": "text/x-python",
   "name": "python",
   "nbconvert_exporter": "python",
   "pygments_lexer": "ipython3",
   "version": "3.9.6"
  },
  "orig_nbformat": 4
 },
 "nbformat": 4,
 "nbformat_minor": 2
}
